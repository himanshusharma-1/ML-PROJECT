{
  "nbformat": 4,
  "nbformat_minor": 0,
  "metadata": {
    "kernelspec": {
      "display_name": "Python 3 (system-wide)",
      "language": "python",
      "metadata": {
        "cocalc": {
          "description": "Python 3 programming language",
          "priority": 100,
          "url": "https://www.python.org/"
        }
      },
      "name": "python3"
    },
    "language_info": {
      "codemirror_mode": {
        "name": "ipython",
        "version": 3
      },
      "file_extension": ".py",
      "mimetype": "text/x-python",
      "name": "python",
      "nbconvert_exporter": "python",
      "pygments_lexer": "ipython3",
      "version": "3.6.8"
    },
    "colab": {
      "name": "marketing campaign for banking.ipynb",
      "provenance": []
    }
  },
  "cells": [
    {
      "cell_type": "markdown",
      "metadata": {
        "collapsed": false,
        "id": "yXSwtBUTxUKJ",
        "colab_type": "text"
      },
      "source": [
        "italicised text# Project : **Marketing Campaign for Banking Products**\n",
        "\n",
        "The bank has a growing customer base. The bank wants to increase borrowers (asset\n",
        "customers) base to bring in more loan business and earn more through the interest on\n",
        "loans. So , the bank wants to convert the liability based customers to personal loan\n",
        "customers. (while retaining them as depositors). A campaign that the bank ran last year\n",
        "for liability customers showed a healthy conversion rate of over 9% success. The\n",
        "department wants you to build a model that will help them identify the potential\n",
        "customers who have a higher probability of purchasing the loan. This will increase the\n",
        "success ratio while at the same time reduce the cost of the campaign.\n",
        "\n",
        "The dataset contains data on 5000 customers.\n"
      ]
    },
    {
      "cell_type": "code",
      "metadata": {
        "id": "gQ5Cfq9cxUKL",
        "colab_type": "code",
        "colab": {}
      },
      "source": [
        "import pandas as pd\n",
        "import numpy as np\n",
        "import seaborn as sns\n",
        "from sklearn import preprocessing\n",
        "from sklearn.model_selection import train_test_split\n",
        "from sklearn.linear_model import LogisticRegression\n",
        "from sklearn.feature_selection import RFE\n",
        "from sklearn import metrics\n",
        "from sklearn.metrics import classification_report, confusion_matrix\n",
        "\n",
        "import matplotlib.pyplot as plt\n",
        "\n",
        "\n"
      ],
      "execution_count": null,
      "outputs": []
    },
    {
      "cell_type": "code",
      "metadata": {
        "id": "hFGskFguxUKs",
        "colab_type": "code",
        "colab": {}
      },
      "source": [
        "df = pd.read_csv('Bank.csv')"
      ],
      "execution_count": null,
      "outputs": []
    },
    {
      "cell_type": "code",
      "metadata": {
        "id": "jdPLT8DhxUKy",
        "colab_type": "code",
        "colab": {},
        "outputId": "cfcb5603-d274-4728-ea9f-f7c1f998958b"
      },
      "source": [
        "df.head(2)"
      ],
      "execution_count": null,
      "outputs": [
        {
          "output_type": "execute_result",
          "data": {
            "text/html": [
              "<div>\n",
              "<style scoped>\n",
              "    .dataframe tbody tr th:only-of-type {\n",
              "        vertical-align: middle;\n",
              "    }\n",
              "\n",
              "    .dataframe tbody tr th {\n",
              "        vertical-align: top;\n",
              "    }\n",
              "\n",
              "    .dataframe thead th {\n",
              "        text-align: right;\n",
              "    }\n",
              "</style>\n",
              "<table border=\"1\" class=\"dataframe\">\n",
              "  <thead>\n",
              "    <tr style=\"text-align: right;\">\n",
              "      <th></th>\n",
              "      <th>ID</th>\n",
              "      <th>Age</th>\n",
              "      <th>Experience</th>\n",
              "      <th>Income</th>\n",
              "      <th>ZIP Code</th>\n",
              "      <th>Family</th>\n",
              "      <th>CCAvg</th>\n",
              "      <th>Education</th>\n",
              "      <th>Mortgage</th>\n",
              "      <th>Personal Loan</th>\n",
              "      <th>Securities Account</th>\n",
              "      <th>CD Account</th>\n",
              "      <th>Online</th>\n",
              "      <th>CreditCard</th>\n",
              "    </tr>\n",
              "  </thead>\n",
              "  <tbody>\n",
              "    <tr>\n",
              "      <td>0</td>\n",
              "      <td>1</td>\n",
              "      <td>25</td>\n",
              "      <td>1</td>\n",
              "      <td>49</td>\n",
              "      <td>91107</td>\n",
              "      <td>4</td>\n",
              "      <td>1.6</td>\n",
              "      <td>1</td>\n",
              "      <td>0</td>\n",
              "      <td>0</td>\n",
              "      <td>1</td>\n",
              "      <td>0</td>\n",
              "      <td>0</td>\n",
              "      <td>0</td>\n",
              "    </tr>\n",
              "    <tr>\n",
              "      <td>1</td>\n",
              "      <td>2</td>\n",
              "      <td>45</td>\n",
              "      <td>19</td>\n",
              "      <td>34</td>\n",
              "      <td>90089</td>\n",
              "      <td>3</td>\n",
              "      <td>1.5</td>\n",
              "      <td>1</td>\n",
              "      <td>0</td>\n",
              "      <td>0</td>\n",
              "      <td>1</td>\n",
              "      <td>0</td>\n",
              "      <td>0</td>\n",
              "      <td>0</td>\n",
              "    </tr>\n",
              "  </tbody>\n",
              "</table>\n",
              "</div>"
            ],
            "text/plain": [
              "   ID  Age  Experience  Income  ZIP Code  Family  CCAvg  Education  Mortgage  \\\n",
              "0   1   25           1      49     91107       4    1.6          1         0   \n",
              "1   2   45          19      34     90089       3    1.5          1         0   \n",
              "\n",
              "   Personal Loan  Securities Account  CD Account  Online  CreditCard  \n",
              "0              0                   1           0       0           0  \n",
              "1              0                   1           0       0           0  "
            ]
          },
          "metadata": {
            "tags": []
          },
          "execution_count": 3
        }
      ]
    },
    {
      "cell_type": "code",
      "metadata": {
        "id": "6Yl7r30UxULL",
        "colab_type": "code",
        "colab": {}
      },
      "source": [
        "# Creating a copy of dataframe for manipulation\n",
        "df_Bank = df"
      ],
      "execution_count": null,
      "outputs": []
    },
    {
      "cell_type": "code",
      "metadata": {
        "id": "8EWdfmbtxULS",
        "colab_type": "code",
        "colab": {},
        "outputId": "19cd7544-9d3c-4f06-9cd7-a7313ada8f42"
      },
      "source": [
        "#Readjusting the sequence of the columns. First dropping and then reading the \"Personal Loan \" for bringing it as the end column in the dataframe.\n",
        "y= df_Bank['Personal Loan']\n",
        "df_Bank.drop(['Personal Loan'], axis = 1,inplace = True)\n",
        "df['Personal Loan'] = y\n",
        "df_Bank.head(2)"
      ],
      "execution_count": null,
      "outputs": [
        {
          "output_type": "execute_result",
          "data": {
            "text/html": [
              "<div>\n",
              "<style scoped>\n",
              "    .dataframe tbody tr th:only-of-type {\n",
              "        vertical-align: middle;\n",
              "    }\n",
              "\n",
              "    .dataframe tbody tr th {\n",
              "        vertical-align: top;\n",
              "    }\n",
              "\n",
              "    .dataframe thead th {\n",
              "        text-align: right;\n",
              "    }\n",
              "</style>\n",
              "<table border=\"1\" class=\"dataframe\">\n",
              "  <thead>\n",
              "    <tr style=\"text-align: right;\">\n",
              "      <th></th>\n",
              "      <th>ID</th>\n",
              "      <th>Age</th>\n",
              "      <th>Experience</th>\n",
              "      <th>Income</th>\n",
              "      <th>ZIP Code</th>\n",
              "      <th>Family</th>\n",
              "      <th>CCAvg</th>\n",
              "      <th>Education</th>\n",
              "      <th>Mortgage</th>\n",
              "      <th>Securities Account</th>\n",
              "      <th>CD Account</th>\n",
              "      <th>Online</th>\n",
              "      <th>CreditCard</th>\n",
              "      <th>Personal Loan</th>\n",
              "    </tr>\n",
              "  </thead>\n",
              "  <tbody>\n",
              "    <tr>\n",
              "      <td>0</td>\n",
              "      <td>1</td>\n",
              "      <td>25</td>\n",
              "      <td>1</td>\n",
              "      <td>49</td>\n",
              "      <td>91107</td>\n",
              "      <td>4</td>\n",
              "      <td>1.6</td>\n",
              "      <td>1</td>\n",
              "      <td>0</td>\n",
              "      <td>1</td>\n",
              "      <td>0</td>\n",
              "      <td>0</td>\n",
              "      <td>0</td>\n",
              "      <td>0</td>\n",
              "    </tr>\n",
              "    <tr>\n",
              "      <td>1</td>\n",
              "      <td>2</td>\n",
              "      <td>45</td>\n",
              "      <td>19</td>\n",
              "      <td>34</td>\n",
              "      <td>90089</td>\n",
              "      <td>3</td>\n",
              "      <td>1.5</td>\n",
              "      <td>1</td>\n",
              "      <td>0</td>\n",
              "      <td>1</td>\n",
              "      <td>0</td>\n",
              "      <td>0</td>\n",
              "      <td>0</td>\n",
              "      <td>0</td>\n",
              "    </tr>\n",
              "  </tbody>\n",
              "</table>\n",
              "</div>"
            ],
            "text/plain": [
              "   ID  Age  Experience  Income  ZIP Code  Family  CCAvg  Education  Mortgage  \\\n",
              "0   1   25           1      49     91107       4    1.6          1         0   \n",
              "1   2   45          19      34     90089       3    1.5          1         0   \n",
              "\n",
              "   Securities Account  CD Account  Online  CreditCard  Personal Loan  \n",
              "0                   1           0       0           0              0  \n",
              "1                   1           0       0           0              0  "
            ]
          },
          "metadata": {
            "tags": []
          },
          "execution_count": 5
        }
      ]
    },
    {
      "cell_type": "markdown",
      "metadata": {
        "collapsed": false,
        "id": "8ThDAmNTxULa",
        "colab_type": "text"
      },
      "source": [
        "### Question 1:  Read the column description and ensure you understand each attribute well\n"
      ]
    },
    {
      "cell_type": "markdown",
      "metadata": {
        "collapsed": false,
        "id": "yZnE6e1LxULc",
        "colab_type": "text"
      },
      "source": [
        "#### Data Exploration"
      ]
    },
    {
      "cell_type": "code",
      "metadata": {
        "id": "HkdLDK3KxULd",
        "colab_type": "code",
        "colab": {},
        "outputId": "a991a38a-3529-4fa3-f216-3fb258a777fd"
      },
      "source": [
        "df_Bank.info()"
      ],
      "execution_count": null,
      "outputs": [
        {
          "output_type": "stream",
          "text": [
            "<class 'pandas.core.frame.DataFrame'>\n",
            "RangeIndex: 5000 entries, 0 to 4999\n",
            "Data columns (total 14 columns):\n",
            "ID                    5000 non-null int64\n",
            "Age                   5000 non-null int64\n",
            "Experience            5000 non-null int64\n",
            "Income                5000 non-null int64\n",
            "ZIP Code              5000 non-null int64\n",
            "Family                5000 non-null int64\n",
            "CCAvg                 5000 non-null float64\n",
            "Education             5000 non-null int64\n",
            "Mortgage              5000 non-null int64\n",
            "Securities Account    5000 non-null int64\n",
            "CD Account            5000 non-null int64\n",
            "Online                5000 non-null int64\n",
            "CreditCard            5000 non-null int64\n",
            "Personal Loan         5000 non-null int64\n",
            "dtypes: float64(1), int64(13)\n",
            "memory usage: 547.0 KB\n"
          ],
          "name": "stdout"
        }
      ]
    },
    {
      "cell_type": "markdown",
      "metadata": {
        "collapsed": false,
        "id": "q7hNKal-xULj",
        "colab_type": "text"
      },
      "source": [
        "All the columns/attributes have 5000 non-null values."
      ]
    },
    {
      "cell_type": "code",
      "metadata": {
        "id": "p7A0JjpwxULl",
        "colab_type": "code",
        "colab": {},
        "outputId": "ce1cd9ad-a25b-4d7e-c3aa-8f66ec5317ad"
      },
      "source": [
        "# Check if any missing value\n",
        "df_Bank.isnull().any()"
      ],
      "execution_count": null,
      "outputs": [
        {
          "output_type": "execute_result",
          "data": {
            "text/plain": [
              "ID                    False\n",
              "Age                   False\n",
              "Experience            False\n",
              "Income                False\n",
              "ZIP Code              False\n",
              "Family                False\n",
              "CCAvg                 False\n",
              "Education             False\n",
              "Mortgage              False\n",
              "Securities Account    False\n",
              "CD Account            False\n",
              "Online                False\n",
              "CreditCard            False\n",
              "Personal Loan         False\n",
              "dtype: bool"
            ]
          },
          "metadata": {
            "tags": []
          },
          "execution_count": 7
        }
      ]
    },
    {
      "cell_type": "markdown",
      "metadata": {
        "collapsed": false,
        "id": "aIqH-EakxULs",
        "colab_type": "text"
      },
      "source": [
        "There is no null value present in the dataframe."
      ]
    },
    {
      "cell_type": "code",
      "metadata": {
        "id": "RKTWrkuvxULt",
        "colab_type": "code",
        "colab": {},
        "outputId": "7cb44e19-4711-4c87-f5b1-218aeae4624c"
      },
      "source": [
        "# Experience can't have negative values hence replacing it with median\n",
        "df_Bank[df_Bank['Experience'] == -1]['Experience'].count()#33"
      ],
      "execution_count": null,
      "outputs": [
        {
          "output_type": "execute_result",
          "data": {
            "text/plain": [
              "33"
            ]
          },
          "metadata": {
            "tags": []
          },
          "execution_count": 8
        }
      ]
    },
    {
      "cell_type": "code",
      "metadata": {
        "id": "wWJYkUYGxULz",
        "colab_type": "code",
        "colab": {},
        "outputId": "f3642ee4-c916-41fa-981e-474e77df6ba5"
      },
      "source": [
        "df_Bank[df_Bank['Experience'] == -2]['Experience'].count() #15"
      ],
      "execution_count": null,
      "outputs": [
        {
          "output_type": "execute_result",
          "data": {
            "text/plain": [
              "15"
            ]
          },
          "metadata": {
            "tags": []
          },
          "execution_count": 9
        }
      ]
    },
    {
      "cell_type": "code",
      "metadata": {
        "id": "0_2ImXqoxUL5",
        "colab_type": "code",
        "colab": {},
        "outputId": "e79df232-d398-4b20-bc4a-440cd91f6649"
      },
      "source": [
        "df_Bank[df_Bank['Experience'] == -3]['Experience'].count() #4"
      ],
      "execution_count": null,
      "outputs": [
        {
          "output_type": "execute_result",
          "data": {
            "text/plain": [
              "4"
            ]
          },
          "metadata": {
            "tags": []
          },
          "execution_count": 10
        }
      ]
    },
    {
      "cell_type": "markdown",
      "metadata": {
        "collapsed": false,
        "id": "Hp8c_1p5xUL-",
        "colab_type": "text"
      },
      "source": [
        "Total 52 negative values in Experience."
      ]
    },
    {
      "cell_type": "code",
      "metadata": {
        "id": "oMMpC9zTxUL_",
        "colab_type": "code",
        "colab": {}
      },
      "source": [
        "df_Bank['Experience'].replace( to_replace= -1,value = np.nan,inplace = True )\n",
        "df_Bank['Experience'].replace( to_replace= -2,value = np.nan,inplace = True )\n",
        "df_Bank['Experience'].replace( to_replace= -3,value = np.nan,inplace = True )"
      ],
      "execution_count": null,
      "outputs": []
    },
    {
      "cell_type": "code",
      "metadata": {
        "id": "_xMuUbNZxUMI",
        "colab_type": "code",
        "colab": {},
        "outputId": "5aeed615-dc12-42fa-d068-c0df026f36db"
      },
      "source": [
        "df_Bank['Experience'].isnull().sum()"
      ],
      "execution_count": null,
      "outputs": [
        {
          "output_type": "execute_result",
          "data": {
            "text/plain": [
              "52"
            ]
          },
          "metadata": {
            "tags": []
          },
          "execution_count": 12
        }
      ]
    },
    {
      "cell_type": "code",
      "metadata": {
        "id": "Zi8l2q_rxUMS",
        "colab_type": "code",
        "colab": {}
      },
      "source": [
        ""
      ],
      "execution_count": null,
      "outputs": []
    },
    {
      "cell_type": "markdown",
      "metadata": {
        "collapsed": false,
        "id": "6YZCTVR6xUMa",
        "colab_type": "text"
      },
      "source": [
        "So, 52 values in Experience is replaced by nan value.Now we will fill it with the median values."
      ]
    },
    {
      "cell_type": "code",
      "metadata": {
        "id": "XzHr4oZNxUMd",
        "colab_type": "code",
        "colab": {}
      },
      "source": [
        "df_Bank['Experience'].fillna(df_Bank['Experience'].median(),inplace=True)"
      ],
      "execution_count": null,
      "outputs": []
    },
    {
      "cell_type": "markdown",
      "metadata": {
        "collapsed": false,
        "id": "D96T8_zpxUMj",
        "colab_type": "text"
      },
      "source": [
        "Generate descriptive statistics that summarize the central tendency, dispersion and shape of a dataset’s distribution, excluding NaN values."
      ]
    },
    {
      "cell_type": "code",
      "metadata": {
        "id": "rJ_xpSVZxUMk",
        "colab_type": "code",
        "colab": {},
        "outputId": "c4b95a61-6561-4a5e-9d79-8bf9685a7853"
      },
      "source": [
        "#Look at the data distribution\n",
        "df_Bank.describe().transpose()"
      ],
      "execution_count": null,
      "outputs": [
        {
          "output_type": "execute_result",
          "data": {
            "text/html": [
              "<div>\n",
              "<style scoped>\n",
              "    .dataframe tbody tr th:only-of-type {\n",
              "        vertical-align: middle;\n",
              "    }\n",
              "\n",
              "    .dataframe tbody tr th {\n",
              "        vertical-align: top;\n",
              "    }\n",
              "\n",
              "    .dataframe thead th {\n",
              "        text-align: right;\n",
              "    }\n",
              "</style>\n",
              "<table border=\"1\" class=\"dataframe\">\n",
              "  <thead>\n",
              "    <tr style=\"text-align: right;\">\n",
              "      <th></th>\n",
              "      <th>count</th>\n",
              "      <th>mean</th>\n",
              "      <th>std</th>\n",
              "      <th>min</th>\n",
              "      <th>25%</th>\n",
              "      <th>50%</th>\n",
              "      <th>75%</th>\n",
              "      <th>max</th>\n",
              "    </tr>\n",
              "  </thead>\n",
              "  <tbody>\n",
              "    <tr>\n",
              "      <td>ID</td>\n",
              "      <td>5000.0</td>\n",
              "      <td>2500.500000</td>\n",
              "      <td>1443.520003</td>\n",
              "      <td>1.0</td>\n",
              "      <td>1250.75</td>\n",
              "      <td>2500.5</td>\n",
              "      <td>3750.25</td>\n",
              "      <td>5000.0</td>\n",
              "    </tr>\n",
              "    <tr>\n",
              "      <td>Age</td>\n",
              "      <td>5000.0</td>\n",
              "      <td>45.338400</td>\n",
              "      <td>11.463166</td>\n",
              "      <td>23.0</td>\n",
              "      <td>35.00</td>\n",
              "      <td>45.0</td>\n",
              "      <td>55.00</td>\n",
              "      <td>67.0</td>\n",
              "    </tr>\n",
              "    <tr>\n",
              "      <td>Experience</td>\n",
              "      <td>5000.0</td>\n",
              "      <td>20.327600</td>\n",
              "      <td>11.253035</td>\n",
              "      <td>0.0</td>\n",
              "      <td>11.00</td>\n",
              "      <td>20.0</td>\n",
              "      <td>30.00</td>\n",
              "      <td>43.0</td>\n",
              "    </tr>\n",
              "    <tr>\n",
              "      <td>Income</td>\n",
              "      <td>5000.0</td>\n",
              "      <td>73.774200</td>\n",
              "      <td>46.033729</td>\n",
              "      <td>8.0</td>\n",
              "      <td>39.00</td>\n",
              "      <td>64.0</td>\n",
              "      <td>98.00</td>\n",
              "      <td>224.0</td>\n",
              "    </tr>\n",
              "    <tr>\n",
              "      <td>ZIP Code</td>\n",
              "      <td>5000.0</td>\n",
              "      <td>93152.503000</td>\n",
              "      <td>2121.852197</td>\n",
              "      <td>9307.0</td>\n",
              "      <td>91911.00</td>\n",
              "      <td>93437.0</td>\n",
              "      <td>94608.00</td>\n",
              "      <td>96651.0</td>\n",
              "    </tr>\n",
              "    <tr>\n",
              "      <td>Family</td>\n",
              "      <td>5000.0</td>\n",
              "      <td>2.396400</td>\n",
              "      <td>1.147663</td>\n",
              "      <td>1.0</td>\n",
              "      <td>1.00</td>\n",
              "      <td>2.0</td>\n",
              "      <td>3.00</td>\n",
              "      <td>4.0</td>\n",
              "    </tr>\n",
              "    <tr>\n",
              "      <td>CCAvg</td>\n",
              "      <td>5000.0</td>\n",
              "      <td>1.937938</td>\n",
              "      <td>1.747659</td>\n",
              "      <td>0.0</td>\n",
              "      <td>0.70</td>\n",
              "      <td>1.5</td>\n",
              "      <td>2.50</td>\n",
              "      <td>10.0</td>\n",
              "    </tr>\n",
              "    <tr>\n",
              "      <td>Education</td>\n",
              "      <td>5000.0</td>\n",
              "      <td>1.881000</td>\n",
              "      <td>0.839869</td>\n",
              "      <td>1.0</td>\n",
              "      <td>1.00</td>\n",
              "      <td>2.0</td>\n",
              "      <td>3.00</td>\n",
              "      <td>3.0</td>\n",
              "    </tr>\n",
              "    <tr>\n",
              "      <td>Mortgage</td>\n",
              "      <td>5000.0</td>\n",
              "      <td>56.498800</td>\n",
              "      <td>101.713802</td>\n",
              "      <td>0.0</td>\n",
              "      <td>0.00</td>\n",
              "      <td>0.0</td>\n",
              "      <td>101.00</td>\n",
              "      <td>635.0</td>\n",
              "    </tr>\n",
              "    <tr>\n",
              "      <td>Securities Account</td>\n",
              "      <td>5000.0</td>\n",
              "      <td>0.104400</td>\n",
              "      <td>0.305809</td>\n",
              "      <td>0.0</td>\n",
              "      <td>0.00</td>\n",
              "      <td>0.0</td>\n",
              "      <td>0.00</td>\n",
              "      <td>1.0</td>\n",
              "    </tr>\n",
              "    <tr>\n",
              "      <td>CD Account</td>\n",
              "      <td>5000.0</td>\n",
              "      <td>0.060400</td>\n",
              "      <td>0.238250</td>\n",
              "      <td>0.0</td>\n",
              "      <td>0.00</td>\n",
              "      <td>0.0</td>\n",
              "      <td>0.00</td>\n",
              "      <td>1.0</td>\n",
              "    </tr>\n",
              "    <tr>\n",
              "      <td>Online</td>\n",
              "      <td>5000.0</td>\n",
              "      <td>0.596800</td>\n",
              "      <td>0.490589</td>\n",
              "      <td>0.0</td>\n",
              "      <td>0.00</td>\n",
              "      <td>1.0</td>\n",
              "      <td>1.00</td>\n",
              "      <td>1.0</td>\n",
              "    </tr>\n",
              "    <tr>\n",
              "      <td>CreditCard</td>\n",
              "      <td>5000.0</td>\n",
              "      <td>0.294000</td>\n",
              "      <td>0.455637</td>\n",
              "      <td>0.0</td>\n",
              "      <td>0.00</td>\n",
              "      <td>0.0</td>\n",
              "      <td>1.00</td>\n",
              "      <td>1.0</td>\n",
              "    </tr>\n",
              "    <tr>\n",
              "      <td>Personal Loan</td>\n",
              "      <td>5000.0</td>\n",
              "      <td>0.096000</td>\n",
              "      <td>0.294621</td>\n",
              "      <td>0.0</td>\n",
              "      <td>0.00</td>\n",
              "      <td>0.0</td>\n",
              "      <td>0.00</td>\n",
              "      <td>1.0</td>\n",
              "    </tr>\n",
              "  </tbody>\n",
              "</table>\n",
              "</div>"
            ],
            "text/plain": [
              "                     count          mean          std     min       25%  \\\n",
              "ID                  5000.0   2500.500000  1443.520003     1.0   1250.75   \n",
              "Age                 5000.0     45.338400    11.463166    23.0     35.00   \n",
              "Experience          5000.0     20.327600    11.253035     0.0     11.00   \n",
              "Income              5000.0     73.774200    46.033729     8.0     39.00   \n",
              "ZIP Code            5000.0  93152.503000  2121.852197  9307.0  91911.00   \n",
              "Family              5000.0      2.396400     1.147663     1.0      1.00   \n",
              "CCAvg               5000.0      1.937938     1.747659     0.0      0.70   \n",
              "Education           5000.0      1.881000     0.839869     1.0      1.00   \n",
              "Mortgage            5000.0     56.498800   101.713802     0.0      0.00   \n",
              "Securities Account  5000.0      0.104400     0.305809     0.0      0.00   \n",
              "CD Account          5000.0      0.060400     0.238250     0.0      0.00   \n",
              "Online              5000.0      0.596800     0.490589     0.0      0.00   \n",
              "CreditCard          5000.0      0.294000     0.455637     0.0      0.00   \n",
              "Personal Loan       5000.0      0.096000     0.294621     0.0      0.00   \n",
              "\n",
              "                        50%       75%      max  \n",
              "ID                   2500.5   3750.25   5000.0  \n",
              "Age                    45.0     55.00     67.0  \n",
              "Experience             20.0     30.00     43.0  \n",
              "Income                 64.0     98.00    224.0  \n",
              "ZIP Code            93437.0  94608.00  96651.0  \n",
              "Family                  2.0      3.00      4.0  \n",
              "CCAvg                   1.5      2.50     10.0  \n",
              "Education               2.0      3.00      3.0  \n",
              "Mortgage                0.0    101.00    635.0  \n",
              "Securities Account      0.0      0.00      1.0  \n",
              "CD Account              0.0      0.00      1.0  \n",
              "Online                  1.0      1.00      1.0  \n",
              "CreditCard              0.0      1.00      1.0  \n",
              "Personal Loan           0.0      0.00      1.0  "
            ]
          },
          "metadata": {
            "tags": []
          },
          "execution_count": 14
        }
      ]
    },
    {
      "cell_type": "code",
      "metadata": {
        "scrolled": true,
        "id": "6qjHCb4rxUMp",
        "colab_type": "code",
        "colab": {
          "base_uri": "https://localhost:8080/",
          "height": 163
        },
        "outputId": "9e370cc1-ce5f-478b-fb39-850f037ac0a0"
      },
      "source": [
        "sns.pairplot(data =df_Bank,diag_kind ='kde')"
      ],
      "execution_count": null,
      "outputs": [
        {
          "output_type": "error",
          "ename": "NameError",
          "evalue": "ignored",
          "traceback": [
            "\u001b[0;31m---------------------------------------------------------------------------\u001b[0m",
            "\u001b[0;31mNameError\u001b[0m                                 Traceback (most recent call last)",
            "\u001b[0;32m<ipython-input-1-a6035de26d5a>\u001b[0m in \u001b[0;36m<module>\u001b[0;34m()\u001b[0m\n\u001b[0;32m----> 1\u001b[0;31m \u001b[0msns\u001b[0m\u001b[0;34m.\u001b[0m\u001b[0mpairplot\u001b[0m\u001b[0;34m(\u001b[0m\u001b[0mdata\u001b[0m \u001b[0;34m=\u001b[0m\u001b[0mdf_Bank\u001b[0m\u001b[0;34m,\u001b[0m\u001b[0mdiag_kind\u001b[0m \u001b[0;34m=\u001b[0m\u001b[0;34m'kde'\u001b[0m\u001b[0;34m)\u001b[0m\u001b[0;34m\u001b[0m\u001b[0;34m\u001b[0m\u001b[0m\n\u001b[0m",
            "\u001b[0;31mNameError\u001b[0m: name 'sns' is not defined"
          ]
        }
      ]
    },
    {
      "cell_type": "markdown",
      "metadata": {
        "collapsed": false,
        "id": "byr6rTD2xUMz",
        "colab_type": "text"
      },
      "source": [
        "### Question2: Study the data distribution in each attribute, share your findings. (10 points)"
      ]
    },
    {
      "cell_type": "markdown",
      "metadata": {
        "collapsed": false,
        "id": "aK5OUIyrxUM0",
        "colab_type": "text"
      },
      "source": [
        "\n",
        "1). ID: This attribute can be dropped.Though the data distribution is normal.\n",
        "\n",
        "2). Age:Three small peaks can be indicating three values of age would be slightly more in number.However, the mean and median\n",
        "    of the attribute is equal.The distribution is in considerable shape.\n",
        "\n",
        "3). Eductaion :\n",
        "    Mean and median is almost equal. Data is finely distributed. A few peaks shows different values dominance.\n",
        "    \n",
        "4). Income :\n",
        "\tWe can clearly see data is highly left skewed.Data for less income customers is more in the sample.\n",
        "    \n",
        "5). ZIP Code:\n",
        "\tThe attribute has sharp peaks telling the data from particular places are collected more.Spread is also less in the sample.\n",
        "\tMore data from different places can be collected.\n",
        "    \n",
        "6).Family:\n",
        "\tIt has 4 peaks(4 values) , families with least member is highest in the sample.\n",
        "    \n",
        "7).Mortage: \n",
        "\tThis attribute is highly left skewed with a very high peak on the left telling us that most customer are having least mortage while a very few have some mortage.\n",
        "    \n",
        "8).Securities Account :\n",
        "\tThis attributes tells us that majorly cutomers are not having Security account.\n",
        "    \n",
        "9).CD account:\n",
        "\tMost of the customers dont have CDaccounts.\n",
        "    \n",
        "10).Online:\n",
        "\tHigher number of customers use online banking in the sample.\n",
        "    \n",
        "11).Credit Card:\n",
        "\tThis attribute has less customers using CC in comparison to the CC users.\n"
      ]
    },
    {
      "cell_type": "markdown",
      "metadata": {
        "collapsed": false,
        "id": "934sE2RlxUM1",
        "colab_type": "text"
      },
      "source": [
        "###### Relationship between the attributes:\n",
        "\n",
        "- Experience and age are in linear relationship. One can be dropped among them will not effect the accuracy.\n",
        "\n"
      ]
    },
    {
      "cell_type": "code",
      "metadata": {
        "scrolled": true,
        "id": "K8E1YPnBxUM1",
        "colab_type": "code",
        "colab": {},
        "outputId": "d32fc11e-f370-4c51-add3-90aba5160ad5"
      },
      "source": [
        "df_Bank.corr()"
      ],
      "execution_count": null,
      "outputs": [
        {
          "output_type": "execute_result",
          "data": {
            "text/html": [
              "<div>\n",
              "<style scoped>\n",
              "    .dataframe tbody tr th:only-of-type {\n",
              "        vertical-align: middle;\n",
              "    }\n",
              "\n",
              "    .dataframe tbody tr th {\n",
              "        vertical-align: top;\n",
              "    }\n",
              "\n",
              "    .dataframe thead th {\n",
              "        text-align: right;\n",
              "    }\n",
              "</style>\n",
              "<table border=\"1\" class=\"dataframe\">\n",
              "  <thead>\n",
              "    <tr style=\"text-align: right;\">\n",
              "      <th></th>\n",
              "      <th>ID</th>\n",
              "      <th>Age</th>\n",
              "      <th>Experience</th>\n",
              "      <th>Income</th>\n",
              "      <th>ZIP Code</th>\n",
              "      <th>Family</th>\n",
              "      <th>CCAvg</th>\n",
              "      <th>Education</th>\n",
              "      <th>Mortgage</th>\n",
              "      <th>Securities Account</th>\n",
              "      <th>CD Account</th>\n",
              "      <th>Online</th>\n",
              "      <th>CreditCard</th>\n",
              "      <th>Personal Loan</th>\n",
              "    </tr>\n",
              "  </thead>\n",
              "  <tbody>\n",
              "    <tr>\n",
              "      <td>ID</td>\n",
              "      <td>1.000000</td>\n",
              "      <td>-0.008473</td>\n",
              "      <td>-0.009339</td>\n",
              "      <td>-0.017695</td>\n",
              "      <td>0.013432</td>\n",
              "      <td>-0.016797</td>\n",
              "      <td>-0.024675</td>\n",
              "      <td>0.021463</td>\n",
              "      <td>-0.013920</td>\n",
              "      <td>-0.016972</td>\n",
              "      <td>-0.006909</td>\n",
              "      <td>-0.002528</td>\n",
              "      <td>0.017028</td>\n",
              "      <td>-0.024801</td>\n",
              "    </tr>\n",
              "    <tr>\n",
              "      <td>Age</td>\n",
              "      <td>-0.008473</td>\n",
              "      <td>1.000000</td>\n",
              "      <td>0.977182</td>\n",
              "      <td>-0.055269</td>\n",
              "      <td>-0.029216</td>\n",
              "      <td>-0.046418</td>\n",
              "      <td>-0.052012</td>\n",
              "      <td>0.041334</td>\n",
              "      <td>-0.012539</td>\n",
              "      <td>-0.000436</td>\n",
              "      <td>0.008043</td>\n",
              "      <td>0.013702</td>\n",
              "      <td>0.007681</td>\n",
              "      <td>-0.007726</td>\n",
              "    </tr>\n",
              "    <tr>\n",
              "      <td>Experience</td>\n",
              "      <td>-0.009339</td>\n",
              "      <td>0.977182</td>\n",
              "      <td>1.000000</td>\n",
              "      <td>-0.049046</td>\n",
              "      <td>-0.028492</td>\n",
              "      <td>-0.045528</td>\n",
              "      <td>-0.048718</td>\n",
              "      <td>0.018074</td>\n",
              "      <td>-0.013365</td>\n",
              "      <td>-0.000465</td>\n",
              "      <td>0.005526</td>\n",
              "      <td>0.013459</td>\n",
              "      <td>0.008834</td>\n",
              "      <td>-0.014013</td>\n",
              "    </tr>\n",
              "    <tr>\n",
              "      <td>Income</td>\n",
              "      <td>-0.017695</td>\n",
              "      <td>-0.055269</td>\n",
              "      <td>-0.049046</td>\n",
              "      <td>1.000000</td>\n",
              "      <td>-0.016410</td>\n",
              "      <td>-0.157501</td>\n",
              "      <td>0.645984</td>\n",
              "      <td>-0.187524</td>\n",
              "      <td>0.206806</td>\n",
              "      <td>-0.002616</td>\n",
              "      <td>0.169738</td>\n",
              "      <td>0.014206</td>\n",
              "      <td>-0.002385</td>\n",
              "      <td>0.502462</td>\n",
              "    </tr>\n",
              "    <tr>\n",
              "      <td>ZIP Code</td>\n",
              "      <td>0.013432</td>\n",
              "      <td>-0.029216</td>\n",
              "      <td>-0.028492</td>\n",
              "      <td>-0.016410</td>\n",
              "      <td>1.000000</td>\n",
              "      <td>0.011778</td>\n",
              "      <td>-0.004061</td>\n",
              "      <td>-0.017377</td>\n",
              "      <td>0.007383</td>\n",
              "      <td>0.004704</td>\n",
              "      <td>0.019972</td>\n",
              "      <td>0.016990</td>\n",
              "      <td>0.007691</td>\n",
              "      <td>0.000107</td>\n",
              "    </tr>\n",
              "    <tr>\n",
              "      <td>Family</td>\n",
              "      <td>-0.016797</td>\n",
              "      <td>-0.046418</td>\n",
              "      <td>-0.045528</td>\n",
              "      <td>-0.157501</td>\n",
              "      <td>0.011778</td>\n",
              "      <td>1.000000</td>\n",
              "      <td>-0.109275</td>\n",
              "      <td>0.064929</td>\n",
              "      <td>-0.020445</td>\n",
              "      <td>0.019994</td>\n",
              "      <td>0.014110</td>\n",
              "      <td>0.010354</td>\n",
              "      <td>0.011588</td>\n",
              "      <td>0.061367</td>\n",
              "    </tr>\n",
              "    <tr>\n",
              "      <td>CCAvg</td>\n",
              "      <td>-0.024675</td>\n",
              "      <td>-0.052012</td>\n",
              "      <td>-0.048718</td>\n",
              "      <td>0.645984</td>\n",
              "      <td>-0.004061</td>\n",
              "      <td>-0.109275</td>\n",
              "      <td>1.000000</td>\n",
              "      <td>-0.136124</td>\n",
              "      <td>0.109905</td>\n",
              "      <td>0.015086</td>\n",
              "      <td>0.136534</td>\n",
              "      <td>-0.003611</td>\n",
              "      <td>-0.006689</td>\n",
              "      <td>0.366889</td>\n",
              "    </tr>\n",
              "    <tr>\n",
              "      <td>Education</td>\n",
              "      <td>0.021463</td>\n",
              "      <td>0.041334</td>\n",
              "      <td>0.018074</td>\n",
              "      <td>-0.187524</td>\n",
              "      <td>-0.017377</td>\n",
              "      <td>0.064929</td>\n",
              "      <td>-0.136124</td>\n",
              "      <td>1.000000</td>\n",
              "      <td>-0.033327</td>\n",
              "      <td>-0.010812</td>\n",
              "      <td>0.013934</td>\n",
              "      <td>-0.015004</td>\n",
              "      <td>-0.011014</td>\n",
              "      <td>0.136722</td>\n",
              "    </tr>\n",
              "    <tr>\n",
              "      <td>Mortgage</td>\n",
              "      <td>-0.013920</td>\n",
              "      <td>-0.012539</td>\n",
              "      <td>-0.013365</td>\n",
              "      <td>0.206806</td>\n",
              "      <td>0.007383</td>\n",
              "      <td>-0.020445</td>\n",
              "      <td>0.109905</td>\n",
              "      <td>-0.033327</td>\n",
              "      <td>1.000000</td>\n",
              "      <td>-0.005411</td>\n",
              "      <td>0.089311</td>\n",
              "      <td>-0.005995</td>\n",
              "      <td>-0.007231</td>\n",
              "      <td>0.142095</td>\n",
              "    </tr>\n",
              "    <tr>\n",
              "      <td>Securities Account</td>\n",
              "      <td>-0.016972</td>\n",
              "      <td>-0.000436</td>\n",
              "      <td>-0.000465</td>\n",
              "      <td>-0.002616</td>\n",
              "      <td>0.004704</td>\n",
              "      <td>0.019994</td>\n",
              "      <td>0.015086</td>\n",
              "      <td>-0.010812</td>\n",
              "      <td>-0.005411</td>\n",
              "      <td>1.000000</td>\n",
              "      <td>0.317034</td>\n",
              "      <td>0.012627</td>\n",
              "      <td>-0.015028</td>\n",
              "      <td>0.021954</td>\n",
              "    </tr>\n",
              "    <tr>\n",
              "      <td>CD Account</td>\n",
              "      <td>-0.006909</td>\n",
              "      <td>0.008043</td>\n",
              "      <td>0.005526</td>\n",
              "      <td>0.169738</td>\n",
              "      <td>0.019972</td>\n",
              "      <td>0.014110</td>\n",
              "      <td>0.136534</td>\n",
              "      <td>0.013934</td>\n",
              "      <td>0.089311</td>\n",
              "      <td>0.317034</td>\n",
              "      <td>1.000000</td>\n",
              "      <td>0.175880</td>\n",
              "      <td>0.278644</td>\n",
              "      <td>0.316355</td>\n",
              "    </tr>\n",
              "    <tr>\n",
              "      <td>Online</td>\n",
              "      <td>-0.002528</td>\n",
              "      <td>0.013702</td>\n",
              "      <td>0.013459</td>\n",
              "      <td>0.014206</td>\n",
              "      <td>0.016990</td>\n",
              "      <td>0.010354</td>\n",
              "      <td>-0.003611</td>\n",
              "      <td>-0.015004</td>\n",
              "      <td>-0.005995</td>\n",
              "      <td>0.012627</td>\n",
              "      <td>0.175880</td>\n",
              "      <td>1.000000</td>\n",
              "      <td>0.004210</td>\n",
              "      <td>0.006278</td>\n",
              "    </tr>\n",
              "    <tr>\n",
              "      <td>CreditCard</td>\n",
              "      <td>0.017028</td>\n",
              "      <td>0.007681</td>\n",
              "      <td>0.008834</td>\n",
              "      <td>-0.002385</td>\n",
              "      <td>0.007691</td>\n",
              "      <td>0.011588</td>\n",
              "      <td>-0.006689</td>\n",
              "      <td>-0.011014</td>\n",
              "      <td>-0.007231</td>\n",
              "      <td>-0.015028</td>\n",
              "      <td>0.278644</td>\n",
              "      <td>0.004210</td>\n",
              "      <td>1.000000</td>\n",
              "      <td>0.002802</td>\n",
              "    </tr>\n",
              "    <tr>\n",
              "      <td>Personal Loan</td>\n",
              "      <td>-0.024801</td>\n",
              "      <td>-0.007726</td>\n",
              "      <td>-0.014013</td>\n",
              "      <td>0.502462</td>\n",
              "      <td>0.000107</td>\n",
              "      <td>0.061367</td>\n",
              "      <td>0.366889</td>\n",
              "      <td>0.136722</td>\n",
              "      <td>0.142095</td>\n",
              "      <td>0.021954</td>\n",
              "      <td>0.316355</td>\n",
              "      <td>0.006278</td>\n",
              "      <td>0.002802</td>\n",
              "      <td>1.000000</td>\n",
              "    </tr>\n",
              "  </tbody>\n",
              "</table>\n",
              "</div>"
            ],
            "text/plain": [
              "                          ID       Age  Experience    Income  ZIP Code  \\\n",
              "ID                  1.000000 -0.008473   -0.009339 -0.017695  0.013432   \n",
              "Age                -0.008473  1.000000    0.977182 -0.055269 -0.029216   \n",
              "Experience         -0.009339  0.977182    1.000000 -0.049046 -0.028492   \n",
              "Income             -0.017695 -0.055269   -0.049046  1.000000 -0.016410   \n",
              "ZIP Code            0.013432 -0.029216   -0.028492 -0.016410  1.000000   \n",
              "Family             -0.016797 -0.046418   -0.045528 -0.157501  0.011778   \n",
              "CCAvg              -0.024675 -0.052012   -0.048718  0.645984 -0.004061   \n",
              "Education           0.021463  0.041334    0.018074 -0.187524 -0.017377   \n",
              "Mortgage           -0.013920 -0.012539   -0.013365  0.206806  0.007383   \n",
              "Securities Account -0.016972 -0.000436   -0.000465 -0.002616  0.004704   \n",
              "CD Account         -0.006909  0.008043    0.005526  0.169738  0.019972   \n",
              "Online             -0.002528  0.013702    0.013459  0.014206  0.016990   \n",
              "CreditCard          0.017028  0.007681    0.008834 -0.002385  0.007691   \n",
              "Personal Loan      -0.024801 -0.007726   -0.014013  0.502462  0.000107   \n",
              "\n",
              "                      Family     CCAvg  Education  Mortgage  \\\n",
              "ID                 -0.016797 -0.024675   0.021463 -0.013920   \n",
              "Age                -0.046418 -0.052012   0.041334 -0.012539   \n",
              "Experience         -0.045528 -0.048718   0.018074 -0.013365   \n",
              "Income             -0.157501  0.645984  -0.187524  0.206806   \n",
              "ZIP Code            0.011778 -0.004061  -0.017377  0.007383   \n",
              "Family              1.000000 -0.109275   0.064929 -0.020445   \n",
              "CCAvg              -0.109275  1.000000  -0.136124  0.109905   \n",
              "Education           0.064929 -0.136124   1.000000 -0.033327   \n",
              "Mortgage           -0.020445  0.109905  -0.033327  1.000000   \n",
              "Securities Account  0.019994  0.015086  -0.010812 -0.005411   \n",
              "CD Account          0.014110  0.136534   0.013934  0.089311   \n",
              "Online              0.010354 -0.003611  -0.015004 -0.005995   \n",
              "CreditCard          0.011588 -0.006689  -0.011014 -0.007231   \n",
              "Personal Loan       0.061367  0.366889   0.136722  0.142095   \n",
              "\n",
              "                    Securities Account  CD Account    Online  CreditCard  \\\n",
              "ID                           -0.016972   -0.006909 -0.002528    0.017028   \n",
              "Age                          -0.000436    0.008043  0.013702    0.007681   \n",
              "Experience                   -0.000465    0.005526  0.013459    0.008834   \n",
              "Income                       -0.002616    0.169738  0.014206   -0.002385   \n",
              "ZIP Code                      0.004704    0.019972  0.016990    0.007691   \n",
              "Family                        0.019994    0.014110  0.010354    0.011588   \n",
              "CCAvg                         0.015086    0.136534 -0.003611   -0.006689   \n",
              "Education                    -0.010812    0.013934 -0.015004   -0.011014   \n",
              "Mortgage                     -0.005411    0.089311 -0.005995   -0.007231   \n",
              "Securities Account            1.000000    0.317034  0.012627   -0.015028   \n",
              "CD Account                    0.317034    1.000000  0.175880    0.278644   \n",
              "Online                        0.012627    0.175880  1.000000    0.004210   \n",
              "CreditCard                   -0.015028    0.278644  0.004210    1.000000   \n",
              "Personal Loan                 0.021954    0.316355  0.006278    0.002802   \n",
              "\n",
              "                    Personal Loan  \n",
              "ID                      -0.024801  \n",
              "Age                     -0.007726  \n",
              "Experience              -0.014013  \n",
              "Income                   0.502462  \n",
              "ZIP Code                 0.000107  \n",
              "Family                   0.061367  \n",
              "CCAvg                    0.366889  \n",
              "Education                0.136722  \n",
              "Mortgage                 0.142095  \n",
              "Securities Account       0.021954  \n",
              "CD Account               0.316355  \n",
              "Online                   0.006278  \n",
              "CreditCard               0.002802  \n",
              "Personal Loan            1.000000  "
            ]
          },
          "metadata": {
            "tags": []
          },
          "execution_count": 12
        }
      ]
    },
    {
      "cell_type": "markdown",
      "metadata": {
        "collapsed": false,
        "id": "zVEcszMPxUM7",
        "colab_type": "text"
      },
      "source": [
        "### Question 3: Get the target distribution."
      ]
    },
    {
      "cell_type": "code",
      "metadata": {
        "id": "Lyun37SWxUM8",
        "colab_type": "code",
        "colab": {},
        "outputId": "3b7d55e0-9d05-4a79-d1fb-c940f374bbba"
      },
      "source": [
        "# 0 = didnt take loan in the last campaign (90.4%)\n",
        "# 1 = took loan in the last campaign (9.6%)\n",
        "df_Bank[\"Personal Loan\"].value_counts()"
      ],
      "execution_count": null,
      "outputs": [
        {
          "output_type": "execute_result",
          "data": {
            "text/plain": [
              "0    4520\n",
              "1     480\n",
              "Name: Personal Loan, dtype: int64"
            ]
          },
          "metadata": {
            "tags": []
          },
          "execution_count": 15
        }
      ]
    },
    {
      "cell_type": "code",
      "metadata": {
        "id": "BQ_Kz4gpxUNA",
        "colab_type": "code",
        "colab": {},
        "outputId": "ba5b2926-c92c-4104-b0ff-a418fcfd8623"
      },
      "source": [
        "sns.countplot(df_Bank[\"Personal Loan\"])"
      ],
      "execution_count": null,
      "outputs": [
        {
          "output_type": "execute_result",
          "data": {
            "text/plain": [
              "<matplotlib.axes._subplots.AxesSubplot at 0x7f9aabb685f8>"
            ]
          },
          "metadata": {
            "tags": []
          },
          "execution_count": 16
        },
        {
          "output_type": "execute_result",
          "data": {
            "image/png": "[encoded data removed]",
            "text/plain": [
              "<Figure size 432x288 with 1 Axes>"
            ]
          },
          "metadata": {
            "tags": [],
            "image/png": {
              "height": 261,
              "width": 395
            }
          },
          "execution_count": 16
        }
      ]
    },
    {
      "cell_type": "code",
      "metadata": {
        "id": "1-3uEBNdxUNF",
        "colab_type": "code",
        "colab": {}
      },
      "source": [
        "#sns.swarmplot(data=df_Bank['Personal Loan'])"
      ],
      "execution_count": null,
      "outputs": []
    },
    {
      "cell_type": "code",
      "metadata": {
        "id": "I75WahQFxUNK",
        "colab_type": "code",
        "colab": {},
        "outputId": "8cf95b05-a12d-4151-f028-eb848d842a4c"
      },
      "source": [
        "count_no_sub = len(df_Bank[df_Bank['Personal Loan']==0])\n",
        "print('count_no_sub :',count_no_sub)\n",
        "count_sub = len(df_Bank[df_Bank['Personal Loan']==1])\n",
        "print('count_sub :',count_sub)\n",
        "pct_of_no_sub = count_no_sub/(count_no_sub+count_sub)\n",
        "print('pct_of_no_sub')\n",
        "print(\"percentage of no subscription is\", pct_of_no_sub*100)\n",
        "pct_of_sub = count_sub/(count_no_sub+count_sub)\n",
        "print(\"percentage of subscription\", pct_of_sub*100)"
      ],
      "execution_count": null,
      "outputs": [
        {
          "output_type": "stream",
          "text": [
            "count_no_sub : 4520\n",
            "count_sub : 480\n",
            "pct_of_no_sub\n",
            "percentage of no subscription is 90.4\n",
            "percentage of subscription 9.6\n"
          ],
          "name": "stdout"
        }
      ]
    },
    {
      "cell_type": "markdown",
      "metadata": {
        "collapsed": false,
        "id": "jIsiMMrtxUNR",
        "colab_type": "text"
      },
      "source": [
        "###### Looking into the distribution to the various attributes in relation with the target."
      ]
    },
    {
      "cell_type": "code",
      "metadata": {
        "id": "DxPzqajNxUNS",
        "colab_type": "code",
        "colab": {},
        "outputId": "29e603b8-b8e9-4cde-b9c5-d425c5f32bcb"
      },
      "source": [
        "df_Bank.groupby(df_Bank['Personal Loan']).mean()"
      ],
      "execution_count": null,
      "outputs": [
        {
          "output_type": "execute_result",
          "data": {
            "text/html": [
              "<div>\n",
              "<style scoped>\n",
              "    .dataframe tbody tr th:only-of-type {\n",
              "        vertical-align: middle;\n",
              "    }\n",
              "\n",
              "    .dataframe tbody tr th {\n",
              "        vertical-align: top;\n",
              "    }\n",
              "\n",
              "    .dataframe thead th {\n",
              "        text-align: right;\n",
              "    }\n",
              "</style>\n",
              "<table border=\"1\" class=\"dataframe\">\n",
              "  <thead>\n",
              "    <tr style=\"text-align: right;\">\n",
              "      <th></th>\n",
              "      <th>ID</th>\n",
              "      <th>Age</th>\n",
              "      <th>Experience</th>\n",
              "      <th>Income</th>\n",
              "      <th>ZIP Code</th>\n",
              "      <th>Family</th>\n",
              "      <th>CCAvg</th>\n",
              "      <th>Education</th>\n",
              "      <th>Mortgage</th>\n",
              "      <th>Securities Account</th>\n",
              "      <th>CD Account</th>\n",
              "      <th>Online</th>\n",
              "      <th>CreditCard</th>\n",
              "    </tr>\n",
              "    <tr>\n",
              "      <th>Personal Loan</th>\n",
              "      <th></th>\n",
              "      <th></th>\n",
              "      <th></th>\n",
              "      <th></th>\n",
              "      <th></th>\n",
              "      <th></th>\n",
              "      <th></th>\n",
              "      <th></th>\n",
              "      <th></th>\n",
              "      <th></th>\n",
              "      <th></th>\n",
              "      <th></th>\n",
              "      <th></th>\n",
              "    </tr>\n",
              "  </thead>\n",
              "  <tbody>\n",
              "    <tr>\n",
              "      <td>0</td>\n",
              "      <td>2512.165487</td>\n",
              "      <td>45.367257</td>\n",
              "      <td>20.378982</td>\n",
              "      <td>66.237389</td>\n",
              "      <td>93152.428761</td>\n",
              "      <td>2.373451</td>\n",
              "      <td>1.729009</td>\n",
              "      <td>1.843584</td>\n",
              "      <td>51.789381</td>\n",
              "      <td>0.102212</td>\n",
              "      <td>0.035841</td>\n",
              "      <td>0.595796</td>\n",
              "      <td>0.293584</td>\n",
              "    </tr>\n",
              "    <tr>\n",
              "      <td>1</td>\n",
              "      <td>2390.650000</td>\n",
              "      <td>45.066667</td>\n",
              "      <td>19.843750</td>\n",
              "      <td>144.745833</td>\n",
              "      <td>93153.202083</td>\n",
              "      <td>2.612500</td>\n",
              "      <td>3.905354</td>\n",
              "      <td>2.233333</td>\n",
              "      <td>100.845833</td>\n",
              "      <td>0.125000</td>\n",
              "      <td>0.291667</td>\n",
              "      <td>0.606250</td>\n",
              "      <td>0.297917</td>\n",
              "    </tr>\n",
              "  </tbody>\n",
              "</table>\n",
              "</div>"
            ],
            "text/plain": [
              "                        ID        Age  Experience      Income      ZIP Code  \\\n",
              "Personal Loan                                                                 \n",
              "0              2512.165487  45.367257   20.378982   66.237389  93152.428761   \n",
              "1              2390.650000  45.066667   19.843750  144.745833  93153.202083   \n",
              "\n",
              "                 Family     CCAvg  Education    Mortgage  Securities Account  \\\n",
              "Personal Loan                                                                  \n",
              "0              2.373451  1.729009   1.843584   51.789381            0.102212   \n",
              "1              2.612500  3.905354   2.233333  100.845833            0.125000   \n",
              "\n",
              "               CD Account    Online  CreditCard  \n",
              "Personal Loan                                    \n",
              "0                0.035841  0.595796    0.293584  \n",
              "1                0.291667  0.606250    0.297917  "
            ]
          },
          "metadata": {
            "tags": []
          },
          "execution_count": 22
        }
      ]
    },
    {
      "cell_type": "markdown",
      "metadata": {
        "collapsed": false,
        "id": "gDUDt73kxUNW",
        "colab_type": "text"
      },
      "source": [
        "Observations:\n",
        "1). The average Income of customers who took loan is more than double of the avg income of customers who didn’t take loan last year.\n",
        "\n",
        "2). The Avg. spending on credit cards per month ($000) is also more than double for the customer's who took loan.\n",
        "\n",
        "3). The average mortage for loan availing customers is approximately double for the not availing customers.\n",
        "\n",
        "4). Avg literacy is less for non loan takers."
      ]
    },
    {
      "cell_type": "markdown",
      "metadata": {
        "collapsed": false,
        "id": "7CxZKndoxUNX",
        "colab_type": "text"
      },
      "source": [
        "As given in the data description that person who took loan in the last camping is 9.6%."
      ]
    },
    {
      "cell_type": "code",
      "metadata": {
        "id": "Z19s1qGSxUNZ",
        "colab_type": "code",
        "colab": {},
        "outputId": "3f946541-40de-41f4-d5cb-9950d89b438a"
      },
      "source": [
        "#Looking at the attributes where the variance is less than 1\n",
        "a = df_Bank.var()\n",
        "a[a<1]"
      ],
      "execution_count": null,
      "outputs": [
        {
          "output_type": "execute_result",
          "data": {
            "text/plain": [
              "Education             0.705380\n",
              "Securities Account    0.093519\n",
              "CD Account            0.056763\n",
              "Online                0.240678\n",
              "CreditCard            0.207606\n",
              "Personal Loan         0.086801\n",
              "dtype: float64"
            ]
          },
          "metadata": {
            "tags": []
          },
          "execution_count": 23
        }
      ]
    },
    {
      "cell_type": "markdown",
      "metadata": {
        "collapsed": false,
        "id": "567VEJcBxUNh",
        "colab_type": "text"
      },
      "source": [
        "Experience and age is having a good corelation. One among them can be dropped. Target is having comparetively better relation with Income."
      ]
    },
    {
      "cell_type": "code",
      "metadata": {
        "id": "NgzFNPdXxUNi",
        "colab_type": "code",
        "colab": {},
        "outputId": "80b2761b-282d-482c-9513-eaece3865c75"
      },
      "source": [
        "df_Bank.drop(columns ='Experience',inplace= True)\n",
        "df_Bank.drop(columns ='ID',inplace=True)\n",
        "df_Bank.head(2)"
      ],
      "execution_count": null,
      "outputs": [
        {
          "output_type": "execute_result",
          "data": {
            "text/html": [
              "<div>\n",
              "<style scoped>\n",
              "    .dataframe tbody tr th:only-of-type {\n",
              "        vertical-align: middle;\n",
              "    }\n",
              "\n",
              "    .dataframe tbody tr th {\n",
              "        vertical-align: top;\n",
              "    }\n",
              "\n",
              "    .dataframe thead th {\n",
              "        text-align: right;\n",
              "    }\n",
              "</style>\n",
              "<table border=\"1\" class=\"dataframe\">\n",
              "  <thead>\n",
              "    <tr style=\"text-align: right;\">\n",
              "      <th></th>\n",
              "      <th>Age</th>\n",
              "      <th>Income</th>\n",
              "      <th>ZIP Code</th>\n",
              "      <th>Family</th>\n",
              "      <th>CCAvg</th>\n",
              "      <th>Education</th>\n",
              "      <th>Mortgage</th>\n",
              "      <th>Securities Account</th>\n",
              "      <th>CD Account</th>\n",
              "      <th>Online</th>\n",
              "      <th>CreditCard</th>\n",
              "      <th>Personal Loan</th>\n",
              "    </tr>\n",
              "  </thead>\n",
              "  <tbody>\n",
              "    <tr>\n",
              "      <td>0</td>\n",
              "      <td>25</td>\n",
              "      <td>49</td>\n",
              "      <td>91107</td>\n",
              "      <td>4</td>\n",
              "      <td>1.6</td>\n",
              "      <td>1</td>\n",
              "      <td>0</td>\n",
              "      <td>1</td>\n",
              "      <td>0</td>\n",
              "      <td>0</td>\n",
              "      <td>0</td>\n",
              "      <td>0</td>\n",
              "    </tr>\n",
              "    <tr>\n",
              "      <td>1</td>\n",
              "      <td>45</td>\n",
              "      <td>34</td>\n",
              "      <td>90089</td>\n",
              "      <td>3</td>\n",
              "      <td>1.5</td>\n",
              "      <td>1</td>\n",
              "      <td>0</td>\n",
              "      <td>1</td>\n",
              "      <td>0</td>\n",
              "      <td>0</td>\n",
              "      <td>0</td>\n",
              "      <td>0</td>\n",
              "    </tr>\n",
              "  </tbody>\n",
              "</table>\n",
              "</div>"
            ],
            "text/plain": [
              "   Age  Income  ZIP Code  Family  CCAvg  Education  Mortgage  \\\n",
              "0   25      49     91107       4    1.6          1         0   \n",
              "1   45      34     90089       3    1.5          1         0   \n",
              "\n",
              "   Securities Account  CD Account  Online  CreditCard  Personal Loan  \n",
              "0                   1           0       0           0              0  \n",
              "1                   1           0       0           0              0  "
            ]
          },
          "metadata": {
            "tags": []
          },
          "execution_count": 24
        }
      ]
    },
    {
      "cell_type": "markdown",
      "metadata": {
        "collapsed": false,
        "id": "DQGJUj0lxUNn",
        "colab_type": "text"
      },
      "source": [
        "### Question 4: Split the data into training and test set in the ratio of 70:30 respectively."
      ]
    },
    {
      "cell_type": "code",
      "metadata": {
        "id": "MwDRNfjYxUNn",
        "colab_type": "code",
        "colab": {}
      },
      "source": [
        "array = df_Bank\n",
        "X= array.iloc[:,0:11]\n",
        "y= array.iloc[:,11]\n"
      ],
      "execution_count": null,
      "outputs": []
    },
    {
      "cell_type": "code",
      "metadata": {
        "id": "X1njVen7xUNs",
        "colab_type": "code",
        "colab": {},
        "outputId": "caa209c4-4c74-4155-e331-f10fed05a4d7"
      },
      "source": [
        "standardized_X = preprocessing.scale(X)\n",
        "standardized_X\n",
        "\n"
      ],
      "execution_count": null,
      "outputs": [
        {
          "output_type": "execute_result",
          "data": {
            "text/plain": [
              "array([[-1.77441684, -0.53822878, -0.96411408, ..., -0.25354028,\n",
              "        -1.21661774, -0.64531434],\n",
              "       [-0.02952359, -0.8641094 , -1.44393158, ..., -0.25354028,\n",
              "        -1.21661774, -0.64531434],\n",
              "       [-0.55299157, -1.36379301,  0.73881384, ..., -0.25354028,\n",
              "        -1.21661774, -0.64531434],\n",
              "       ...,\n",
              "       [ 1.54088033, -1.08136314, -0.0610391 , ..., -0.25354028,\n",
              "        -1.21661774, -0.64531434],\n",
              "       [ 1.71536965, -0.53822878, -1.46985492, ..., -0.25354028,\n",
              "         0.82195086, -0.64531434],\n",
              "       [-1.51268285,  0.20043396, -0.25475717, ..., -0.25354028,\n",
              "         0.82195086,  1.54963239]])"
            ]
          },
          "metadata": {
            "tags": []
          },
          "execution_count": 26
        }
      ]
    },
    {
      "cell_type": "code",
      "metadata": {
        "id": "qwVxvRozxUNw",
        "colab_type": "code",
        "colab": {}
      },
      "source": [
        "#normalize the data attributes\n",
        "normalized_X = preprocessing.normalize(X)"
      ],
      "execution_count": null,
      "outputs": []
    },
    {
      "cell_type": "markdown",
      "metadata": {
        "collapsed": false,
        "id": "Rpvy9EiIxUN1",
        "colab_type": "text"
      },
      "source": [
        "#Recursive Feature Elimination\n",
        "\n",
        "data_final_vars=data_final.columns.values.tolist()\n",
        "y=['y']\n",
        "X=[i for i in data_final_vars if i not in y]\n",
        "from sklearn.feature_selection import RFE\n",
        "from sklearn.linear_model import LogisticRegression\n",
        "logreg = LogisticRegression()\n",
        "rfe = RFE(logreg, 20)\n",
        "rfe = rfe.fit(os_data_X, os_data_y.values.ravel())\n",
        "print(rfe.support_)\n",
        "print(rfe.ranking_)\n",
        "\n",
        "cols=['euribor3m', 'job_blue-collar', 'job_housemaid', 'marital_unknown', 'education_illiterate', 'default_no', 'default_unknown', \n",
        "      'contact_cellular', 'contact_telephone', 'month_apr', 'month_aug', 'month_dec', 'month_jul', 'month_jun', 'month_mar', \n",
        "      'month_may', 'month_nov', 'month_oct', \"poutcome_failure\", \"poutcome_success\"] \n",
        "X=os_data_X[cols]\n",
        "y=os_data_y['y']"
      ]
    },
    {
      "cell_type": "code",
      "metadata": {
        "id": "6uW-VzbmxUN1",
        "colab_type": "code",
        "colab": {}
      },
      "source": [
        "X_train, X_test, y_train, y_test = train_test_split(X, y, test_size=0.30, random_state=1)"
      ],
      "execution_count": null,
      "outputs": []
    },
    {
      "cell_type": "markdown",
      "metadata": {
        "collapsed": false,
        "id": "7tR4c2tAxUN6",
        "colab_type": "text"
      },
      "source": [
        "### Question 5:Use the Logistic Regression model to predict the likelihood of a customer buying personal loans .\n"
      ]
    },
    {
      "cell_type": "markdown",
      "metadata": {
        "collapsed": false,
        "id": "p2Ky-9qOxUN6",
        "colab_type": "text"
      },
      "source": [
        "##### Build Logistic model"
      ]
    },
    {
      "cell_type": "code",
      "metadata": {
        "id": "lWvtsznnxUN7",
        "colab_type": "code",
        "colab": {},
        "outputId": "e9203195-dcc6-4823-f921-8e71d463e379"
      },
      "source": [
        "logreg = LogisticRegression()\n",
        "logreg.fit(X_train, y_train)"
      ],
      "execution_count": null,
      "outputs": [
        {
          "output_type": "stream",
          "text": [
            "/usr/local/lib/python3.6/dist-packages/sklearn/linear_model/logistic.py:432: FutureWarning: Default solver will be changed to 'lbfgs' in 0.22. Specify a solver to silence this warning.\n",
            "  FutureWarning)\n"
          ],
          "name": "stderr"
        },
        {
          "output_type": "execute_result",
          "data": {
            "text/plain": [
              "LogisticRegression(C=1.0, class_weight=None, dual=False, fit_intercept=True,\n",
              "                   intercept_scaling=1, l1_ratio=None, max_iter=100,\n",
              "                   multi_class='warn', n_jobs=None, penalty='l2',\n",
              "                   random_state=None, solver='warn', tol=0.0001, verbose=0,\n",
              "                   warm_start=False)"
            ]
          },
          "metadata": {
            "tags": []
          },
          "execution_count": 29
        }
      ]
    },
    {
      "cell_type": "markdown",
      "metadata": {
        "collapsed": false,
        "id": "U1YwJczNxUOC",
        "colab_type": "text"
      },
      "source": [
        "Predicting the test set results and calculating the accuracy\n"
      ]
    },
    {
      "cell_type": "code",
      "metadata": {
        "id": "MhNKIrkixUOC",
        "colab_type": "code",
        "colab": {}
      },
      "source": [
        "y_pred = logreg.predict(X_test)"
      ],
      "execution_count": null,
      "outputs": []
    },
    {
      "cell_type": "code",
      "metadata": {
        "id": "xBjvZssExUOI",
        "colab_type": "code",
        "colab": {},
        "outputId": "b4168936-e401-46ad-d3cd-a5137d1770df"
      },
      "source": [
        "print('Accuracy of logistic regression classifier on train set: {:.2f}'.format(logreg.score(X_train, y_train)))"
      ],
      "execution_count": null,
      "outputs": [
        {
          "output_type": "stream",
          "text": [
            "Accuracy of logistic regression classifier on train set: 0.91\n"
          ],
          "name": "stdout"
        }
      ]
    },
    {
      "cell_type": "code",
      "metadata": {
        "id": "cd49ykfyxUOO",
        "colab_type": "code",
        "colab": {},
        "outputId": "e6910beb-03b8-4102-9625-a13698d7af72"
      },
      "source": [
        "print('Accuracy of logistic regression classifier on test set: {:.2f}'.format(logreg.score(X_test, y_test)))"
      ],
      "execution_count": null,
      "outputs": [
        {
          "output_type": "stream",
          "text": [
            "Accuracy of logistic regression classifier on test set: 0.91\n"
          ],
          "name": "stdout"
        }
      ]
    },
    {
      "cell_type": "markdown",
      "metadata": {
        "collapsed": false,
        "id": "ne2h0KOdxUOT",
        "colab_type": "text"
      },
      "source": [
        "#### Confusion Matrix"
      ]
    },
    {
      "cell_type": "code",
      "metadata": {
        "id": "MCzNX3x4xUOU",
        "colab_type": "code",
        "colab": {},
        "outputId": "c9271f12-cd05-4a7f-b837-0c6790a6f9e7"
      },
      "source": [
        "confusion_matrix = confusion_matrix(y_test, y_pred)\n",
        "print(confusion_matrix)"
      ],
      "execution_count": null,
      "outputs": [
        {
          "output_type": "stream",
          "text": [
            "[[1318   33]\n",
            " [ 106   43]]\n"
          ],
          "name": "stdout"
        }
      ]
    },
    {
      "cell_type": "markdown",
      "metadata": {
        "collapsed": false,
        "id": "G2PUmCA4xUOZ",
        "colab_type": "text"
      },
      "source": [
        "\n",
        "The result is telling us that we have 6124+5170 correct predictions and 2505+1542 incorrect predictions."
      ]
    },
    {
      "cell_type": "markdown",
      "metadata": {
        "collapsed": false,
        "id": "WNPJPoxzxUOa",
        "colab_type": "text"
      },
      "source": [
        "Compute precision, recall, F-measure and support"
      ]
    },
    {
      "cell_type": "code",
      "metadata": {
        "id": "aQFtHC44xUOb",
        "colab_type": "code",
        "colab": {},
        "outputId": "1fcd1038-931d-4cdf-ba16-bf58b1ea885e"
      },
      "source": [
        "print(classification_report(y_test, y_pred))"
      ],
      "execution_count": null,
      "outputs": [
        {
          "output_type": "stream",
          "text": [
            "              precision    recall  f1-score   support\n",
            "\n",
            "           0       0.93      0.98      0.95      1351\n",
            "           1       0.57      0.29      0.38       149\n",
            "\n",
            "    accuracy                           0.91      1500\n",
            "   macro avg       0.75      0.63      0.67      1500\n",
            "weighted avg       0.89      0.91      0.89      1500\n",
            "\n"
          ],
          "name": "stdout"
        }
      ]
    },
    {
      "cell_type": "markdown",
      "metadata": {
        "collapsed": false,
        "id": "7l9p6UbxxUOg",
        "colab_type": "text"
      },
      "source": [
        "Interpretation: Of the entire test set, 74% of the promoted term deposit were the term deposit that the customers liked. Of the entire test set, 74% of the customer’s preferred term deposits that were promoted."
      ]
    },
    {
      "cell_type": "markdown",
      "metadata": {
        "collapsed": false,
        "id": "k_xMfyPuxUOi",
        "colab_type": "text"
      },
      "source": [
        "###### ROC Curve"
      ]
    },
    {
      "cell_type": "code",
      "metadata": {
        "id": "DQ1-JHJFxUOj",
        "colab_type": "code",
        "colab": {},
        "outputId": "5967285a-f150-45f7-fe68-15a0f1006cb3"
      },
      "source": [
        "from sklearn.metrics import roc_auc_score\n",
        "from sklearn.metrics import roc_curve\n",
        "logit_roc_auc = roc_auc_score(y_test, logreg.predict(X_test))\n",
        "fpr, tpr, thresholds = roc_curve(y_test, logreg.predict_proba(X_test)[:,1])\n",
        "plt.figure()\n",
        "plt.plot(fpr, tpr, label='Logistic Regression (area = %0.2f)' % logit_roc_auc)\n",
        "plt.plot([0, 1], [0, 1],'r--')\n",
        "plt.xlim([0.0, 1.0])\n",
        "plt.ylim([0.0, 1.05])\n",
        "plt.xlabel('False Positive Rate')\n",
        "plt.ylabel('True Positive Rate')\n",
        "plt.title('Receiver operating characteristic')\n",
        "plt.legend(loc=\"lower right\")\n",
        "plt.savefig('Log_ROC')\n",
        "plt.show()"
      ],
      "execution_count": null,
      "outputs": [
        {
          "output_type": "execute_result",
          "data": {
            "image/png": "[encoded data removed]",
            "text/plain": [
              "<Figure size 432x288 with 1 Axes>"
            ]
          },
          "metadata": {
            "tags": [],
            "image/png": {
              "height": 277,
              "width": 393
            }
          },
          "execution_count": 36
        }
      ]
    },
    {
      "cell_type": "markdown",
      "metadata": {
        "collapsed": false,
        "id": "AGNWPxVOxUOp",
        "colab_type": "text"
      },
      "source": [
        "The receiver operating characteristic (ROC) curve is another common tool used with binary classifiers. The dotted line represents the ROC curve of a purely random classifier; a good classifier stays as far away from that line as possible (toward the top-left corner)."
      ]
    },
    {
      "cell_type": "code",
      "metadata": {
        "id": "9ItFCyzRxUOq",
        "colab_type": "code",
        "colab": {},
        "outputId": "e801ac6a-88f9-43bf-b647-3ef3f1d9df54"
      },
      "source": [
        "import statsmodels.api as sm\n",
        "logit_model=sm.Logit(y,X)\n",
        "result=logit_model.fit()\n",
        "print(result.summary2())"
      ],
      "execution_count": null,
      "outputs": [
        {
          "output_type": "stream",
          "text": [
            "Optimization terminated successfully.\n",
            "         Current function value: 0.130922\n",
            "         Iterations 9\n"
          ],
          "name": "stdout"
        },
        {
          "output_type": "stream",
          "text": [
            "                          Results: Logit\n",
            "===================================================================\n",
            "Model:               Logit             Pseudo R-squared:  0.586    \n",
            "Dependent Variable:  Personal Loan     AIC:               1331.2237\n",
            "Date:                2019-11-02 08:40  BIC:               1402.9128\n",
            "No. Observations:    5000              Log-Likelihood:    -654.61  \n",
            "Df Model:            10                LL-Null:           -1581.0  \n",
            "Df Residuals:        4989              LLR p-value:       0.0000   \n",
            "Converged:           1.0000            Scale:             1.0000   \n",
            "No. Iterations:      9.0000                                        \n",
            "-------------------------------------------------------------------\n",
            "                    Coef.  Std.Err.    z     P>|z|   [0.025  0.975]\n",
            "-------------------------------------------------------------------\n",
            "Age                 0.0056   0.0064   0.8788 0.3795 -0.0069  0.0182\n",
            "Income              0.0534   0.0026  20.9214 0.0000  0.0484  0.0584\n",
            "ZIP Code           -0.0001   0.0000 -20.5802 0.0000 -0.0002 -0.0001\n",
            "Family              0.6615   0.0732   9.0344 0.0000  0.5180  0.8050\n",
            "CCAvg               0.1204   0.0392   3.0724 0.0021  0.0436  0.1972\n",
            "Education           1.6478   0.1101  14.9716 0.0000  1.4321  1.8636\n",
            "Mortgage            0.0004   0.0006   0.7463 0.4555 -0.0007  0.0015\n",
            "Securities Account -0.9563   0.2823  -3.3877 0.0007 -1.5096 -0.4030\n",
            "CD Account          3.9016   0.3216  12.1328 0.0000  3.2713  4.5319\n",
            "Online             -0.6989   0.1557  -4.4885 0.0000 -1.0041 -0.3937\n",
            "CreditCard         -1.1594   0.2043  -5.6736 0.0000 -1.5599 -0.7589\n",
            "===================================================================\n",
            "\n"
          ],
          "name": "stdout"
        }
      ]
    },
    {
      "cell_type": "markdown",
      "metadata": {
        "collapsed": false,
        "id": "o-g_WtrJxUOz",
        "colab_type": "text"
      },
      "source": [
        "The p-values for most of the variables are smaller than 0.05, except four variables, therefore, we will remove them."
      ]
    },
    {
      "cell_type": "code",
      "metadata": {
        "id": "k53VNNPAxUO0",
        "colab_type": "code",
        "colab": {}
      },
      "source": [
        "#Again check.\n",
        "\n",
        "#logit_model=sm.Logit(y,X)\n",
        "#result=logit_model.fit()\n",
        "#print(result.summary2())"
      ],
      "execution_count": null,
      "outputs": []
    },
    {
      "cell_type": "code",
      "metadata": {
        "id": "C2px8-P2xUO4",
        "colab_type": "code",
        "colab": {},
        "outputId": "94f4edb4-b30e-4c0e-db60-3a5ce4cad388"
      },
      "source": [
        "from sklearn.metrics import roc_auc_score\n",
        "from sklearn.metrics import roc_curve\n",
        "logit_roc_auc = roc_auc_score(y_test, logreg.predict(X_test))\n",
        "fpr, tpr, thresholds = roc_curve(y_test, logreg.predict_proba(X_test)[:,1])\n",
        "plt.figure()\n",
        "plt.plot(fpr, tpr, label='Logistic Regression (area = %0.2f)' % logit_roc_auc)\n",
        "plt.plot([0, 1], [0, 1],'r--')\n",
        "plt.xlim([0.0, 1.0])\n",
        "plt.ylim([0.0, 1.05])\n",
        "plt.xlabel('False Positive Rate')\n",
        "plt.ylabel('True Positive Rate')\n",
        "plt.title('Receiver operating characteristic')\n",
        "plt.legend(loc=\"lower right\")\n",
        "plt.savefig('Log_ROC')\n",
        "plt.show()"
      ],
      "execution_count": null,
      "outputs": [
        {
          "output_type": "execute_result",
          "data": {
            "image/png": "[encoded data removed]",
            "text/plain": [
              "<Figure size 432x288 with 1 Axes>"
            ]
          },
          "metadata": {
            "tags": [],
            "image/png": {
              "height": 277,
              "width": 393
            }
          },
          "execution_count": 38
        }
      ]
    },
    {
      "cell_type": "markdown",
      "metadata": {
        "collapsed": false,
        "id": "t4A3TNHvxUPA",
        "colab_type": "text"
      },
      "source": [
        "The receiver operating characteristic (ROC) curve is another common tool used with binary classifiers. The dotted line represents the ROC curve of a purely random classifier; a good classifier stays as far away from that line as possible (toward the top-left corner)."
      ]
    },
    {
      "cell_type": "markdown",
      "metadata": {
        "collapsed": false,
        "id": "BldLUks0xUPB",
        "colab_type": "text"
      },
      "source": [
        "##### Build KNN Model"
      ]
    },
    {
      "cell_type": "code",
      "metadata": {
        "id": "GM2Y3GI3xUPC",
        "colab_type": "code",
        "colab": {},
        "outputId": "96c4d7d4-8aee-4322-8135-1a7c885189b1"
      },
      "source": [
        "from sklearn.neighbors import KNeighborsClassifier\n",
        "classifier = KNeighborsClassifier(n_neighbors=5)\n",
        "classifier.fit(X_train, y_train)"
      ],
      "execution_count": null,
      "outputs": [
        {
          "output_type": "execute_result",
          "data": {
            "text/plain": [
              "KNeighborsClassifier(algorithm='auto', leaf_size=30, metric='minkowski',\n",
              "                     metric_params=None, n_jobs=None, n_neighbors=5, p=2,\n",
              "                     weights='uniform')"
            ]
          },
          "metadata": {
            "tags": []
          },
          "execution_count": 50
        }
      ]
    },
    {
      "cell_type": "code",
      "metadata": {
        "id": "Hvrj5E5TxUPK",
        "colab_type": "code",
        "colab": {}
      },
      "source": [
        "y_pred = classifier.predict(X_test)"
      ],
      "execution_count": null,
      "outputs": []
    },
    {
      "cell_type": "code",
      "metadata": {
        "id": "5Oy1io1hxUPR",
        "colab_type": "code",
        "colab": {},
        "outputId": "5a8bd57b-afcc-4488-ce4d-f4cd7a085db6"
      },
      "source": [
        "print('Accuracy of logistic regression classifier on train set: {:.2f}'.format(classifier.score(X_train, y_train)))"
      ],
      "execution_count": null,
      "outputs": [
        {
          "output_type": "stream",
          "text": [
            "Accuracy of logistic regression classifier on train set: 0.94\n"
          ],
          "name": "stdout"
        }
      ]
    },
    {
      "cell_type": "code",
      "metadata": {
        "id": "29wuh2gaxUPZ",
        "colab_type": "code",
        "colab": {},
        "outputId": "108d3581-0683-4a84-8dbd-1c9386447039"
      },
      "source": [
        "print('Accuracy of logistic regression classifier on test set: {:.2f}'.format(classifier.score(X_test, y_test)))"
      ],
      "execution_count": null,
      "outputs": [
        {
          "output_type": "stream",
          "text": [
            "Accuracy of logistic regression classifier on test set: 0.94\n"
          ],
          "name": "stdout"
        }
      ]
    },
    {
      "cell_type": "code",
      "metadata": {
        "id": "SgghLgwHxUPf",
        "colab_type": "code",
        "colab": {},
        "outputId": "22be0bf9-77a4-4fc1-9e16-c6ae87e33d93"
      },
      "source": [
        "print(confusion_matrix(y_test, y_pred))\n",
        "print(classification_report(y_test, y_pred))"
      ],
      "execution_count": null,
      "outputs": [
        {
          "output_type": "stream",
          "text": [
            "[[1415    2]\n",
            " [  83    0]]\n",
            "              precision    recall  f1-score   support\n",
            "\n",
            "           0       0.94      1.00      0.97      1417\n",
            "           1       0.00      0.00      0.00        83\n",
            "\n",
            "    accuracy                           0.94      1500\n",
            "   macro avg       0.47      0.50      0.49      1500\n",
            "weighted avg       0.89      0.94      0.92      1500\n",
            "\n"
          ],
          "name": "stdout"
        }
      ]
    },
    {
      "cell_type": "markdown",
      "metadata": {
        "collapsed": false,
        "id": "sGuwPdGrxUPk",
        "colab_type": "text"
      },
      "source": [
        "Comparing Error Rate with the K Value"
      ]
    },
    {
      "cell_type": "code",
      "metadata": {
        "id": "alZ5oUUTxUPm",
        "colab_type": "code",
        "colab": {}
      },
      "source": [
        "error = []\n",
        "\n",
        "# Calculating error for K values between 1 and 40\n",
        "for i in range(1, 40):\n",
        "    knn = KNeighborsClassifier(n_neighbors=i)\n",
        "    knn.fit(X_train, y_train)\n",
        "    pred_i = knn.predict(X_test)\n",
        "    error.append(np.mean(pred_i != y_test))\n"
      ],
      "execution_count": null,
      "outputs": []
    },
    {
      "cell_type": "code",
      "metadata": {
        "id": "FEfKmd4JxUPs",
        "colab_type": "code",
        "colab": {},
        "outputId": "71920f30-385a-4a6a-d08a-1e183ff98cb2"
      },
      "source": [
        "\n",
        "plt.figure(figsize=(12, 6))\n",
        "plt.plot(range(1, 40), error, color='red', linestyle='dashed', marker='o',\n",
        "         markerfacecolor='blue', markersize=10)\n",
        "plt.title('Error Rate K Value')\n",
        "plt.xlabel('K Value')\n",
        "plt.ylabel('Mean Error')\n"
      ],
      "execution_count": null,
      "outputs": [
        {
          "output_type": "execute_result",
          "data": {
            "text/plain": [
              "Text(0, 0.5, 'Mean Error')"
            ]
          },
          "metadata": {
            "tags": []
          },
          "execution_count": 71
        },
        {
          "output_type": "execute_result",
          "data": {
            "image/png": "[encoded data removed]",
            "text/plain": [
              "<Figure size 864x432 with 1 Axes>"
            ]
          },
          "metadata": {
            "tags": [],
            "image/png": {
              "height": 386,
              "width": 733
            }
          },
          "execution_count": 71
        }
      ]
    },
    {
      "cell_type": "markdown",
      "metadata": {
        "collapsed": false,
        "id": "T4CJSFdHxUPx",
        "colab_type": "text"
      },
      "source": [
        "##### Naive Bayes Classification"
      ]
    },
    {
      "cell_type": "code",
      "metadata": {
        "id": "snX4_wVoxUPy",
        "colab_type": "code",
        "colab": {}
      },
      "source": [
        "#Import Gaussian Naive Bayes model\n",
        "from sklearn.naive_bayes import GaussianNB"
      ],
      "execution_count": null,
      "outputs": []
    },
    {
      "cell_type": "code",
      "metadata": {
        "id": "rXE7RhLsxUP7",
        "colab_type": "code",
        "colab": {}
      },
      "source": [
        "\n",
        "#Create a Gaussian Classifier\n",
        "gnb = GaussianNB()\n",
        "\n",
        "#Train the model using the training sets\n",
        "gnb.fit(X_train, y_train)\n",
        "\n",
        "#Predict the response for test dataset\n",
        "y_pred = gnb.predict(X_test)"
      ],
      "execution_count": null,
      "outputs": []
    },
    {
      "cell_type": "markdown",
      "metadata": {
        "collapsed": false,
        "id": "DVg4jvivxUQK",
        "colab_type": "text"
      },
      "source": [
        "Evaluating Model"
      ]
    },
    {
      "cell_type": "code",
      "metadata": {
        "id": "PWHVd7-IxUQR",
        "colab_type": "code",
        "colab": {}
      },
      "source": [
        "#print(\"Accuracy on test set:\",metrics.accuracy_score(X_train,y_train))"
      ],
      "execution_count": null,
      "outputs": []
    },
    {
      "cell_type": "code",
      "metadata": {
        "id": "RqGYmuZyxUQu",
        "colab_type": "code",
        "colab": {},
        "outputId": "ee40658e-d63e-48ba-e044-d756f5cb7172"
      },
      "source": [
        "# Model Accuracy, how often is the classifier correct?\n",
        "print(\"Accuracy on test set:\",metrics.accuracy_score(y_test, y_pred))"
      ],
      "execution_count": null,
      "outputs": [
        {
          "output_type": "stream",
          "text": [
            "Accuracy on test set: 0.87\n"
          ],
          "name": "stdout"
        }
      ]
    },
    {
      "cell_type": "code",
      "metadata": {
        "id": "ufX4BImXxUQ1",
        "colab_type": "code",
        "colab": {},
        "outputId": "31391c37-c5a7-4e17-92d0-44ca99a14cd5"
      },
      "source": [
        "from sklearn.metrics import confusion_matrix\n",
        "import matplotlib.pyplot as plt\n",
        "import seaborn as sns\n",
        "cm = confusion_matrix(y_test, y_pred)\n",
        "sns.heatmap(cm, square=True, annot=True, cmap='RdBu', cbar=False,xticklabels=['Yes', 'No'], yticklabels=['Yes' 'no'])\n",
        "plt.xlabel('true label')\n",
        "plt.ylabel('predicted label')"
      ],
      "execution_count": null,
      "outputs": [
        {
          "output_type": "execute_result",
          "data": {
            "text/plain": [
              "Text(91.68, 0.5, 'predicted label')"
            ]
          },
          "metadata": {
            "tags": []
          },
          "execution_count": 81
        },
        {
          "output_type": "execute_result",
          "data": {
            "image/png": "[encoded data removed]",
            "text/plain": [
              "<Figure size 432x288 with 1 Axes>"
            ]
          },
          "metadata": {
            "tags": [],
            "image/png": {
              "height": 261,
              "width": 261
            }
          },
          "execution_count": 81
        }
      ]
    },
    {
      "cell_type": "code",
      "metadata": {
        "id": "XlbvjizZxURN",
        "colab_type": "code",
        "colab": {},
        "outputId": "606071db-71c9-4444-ece4-d27a5fe152fa"
      },
      "source": [
        "print(classification_report(y_test, y_pred))"
      ],
      "execution_count": null,
      "outputs": [
        {
          "output_type": "stream",
          "text": [
            "              precision    recall  f1-score   support\n",
            "\n",
            "           0       0.97      0.89      0.93      1417\n",
            "           1       0.22      0.53      0.31        83\n",
            "\n",
            "    accuracy                           0.87      1500\n",
            "   macro avg       0.59      0.71      0.62      1500\n",
            "weighted avg       0.93      0.87      0.89      1500\n",
            "\n"
          ],
          "name": "stdout"
        }
      ]
    },
    {
      "cell_type": "markdown",
      "metadata": {
        "collapsed": false,
        "id": "1srTU-fzxURT",
        "colab_type": "text"
      },
      "source": [
        "### 7. Give your reasoning on which is the best model in this case and why it performs better?"
      ]
    },
    {
      "cell_type": "markdown",
      "metadata": {
        "collapsed": false,
        "id": "pmqc13qExURU",
        "colab_type": "text"
      },
      "source": [
        "The logistic Regression model is the best as the accuracy of the train and test set is almost similar and also the precsion and recall accuracy is good. The confusion matrix is also better in comparision to other models.\n",
        "\n",
        "The requirement is to classify the target. The KNN is distance based which not perfect for this situation.Though the accuracy is good but confusion matrix tells that is correct predictions is not that much acceptable.\n",
        "\n",
        "The Naive Bayes giving the ccuracy less in comaprision to other models meaning the probability of determing the target correctly is less."
      ]
    },
    {
      "cell_type": "code",
      "metadata": {
        "id": "2hMdD82zxURX",
        "colab_type": "code",
        "colab": {}
      },
      "source": [
        ""
      ],
      "execution_count": null,
      "outputs": []
    }
  ]
}